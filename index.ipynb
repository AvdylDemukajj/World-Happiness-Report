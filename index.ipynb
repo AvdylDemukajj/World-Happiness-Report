{
 "cells": [
  {
   "cell_type": "code",
   "execution_count": null,
   "metadata": {},
   "outputs": [],
   "source": [
    "import pandas as pd\n",
    "import numpy as np\n",
    "import matplotlib.pyplot as plt\n",
    "import seaborn as sns\n",
    "from mpl_toolkits.mplot3d import Axes3D\n",
    "from pandas.plotting import parallel_coordinates\n",
    "from sklearn.preprocessing import MinMaxScaler"
   ]
  },
  {
   "cell_type": "code",
   "execution_count": null,
   "metadata": {},
   "outputs": [],
   "source": [
    "# Helper Function: Improved find_column\n",
    "def find_column(keywords, columns):\n",
    "    matches = []\n",
    "    for col in columns:\n",
    "        for kw in keywords:\n",
    "            if kw.lower() in col.lower():\n",
    "                matches.append(col)\n",
    "                break\n",
    "    if not matches:\n",
    "        raise ValueError(\"No matching column found for keywords: \" + str(keywords))\n",
    "    if len(matches) > 1:\n",
    "        print(\"Multiple matches found for\", keywords, \":\", matches, \". Using the first one:\", matches[0])\n",
    "    return matches[0]"
   ]
  },
  {
   "cell_type": "code",
   "execution_count": null,
   "metadata": {},
   "outputs": [],
   "source": [
    "# Load the Dataset and Preprocess\n",
    "df = pd.read_csv('world_happiness_report.csv')\n",
    "\n",
    "cols = df.columns.tolist()\n",
    "country_col         = find_column([\"country\"], cols)\n",
    "year_col            = find_column([\"year\"], cols)\n",
    "life_ladder_col     = find_column([\"life ladder\"], cols)\n",
    "log_gdp_col         = find_column([\"log gdp\", \"gdp\"], cols)\n",
    "social_support_col  = find_column([\"social support\"], cols)\n",
    "healthy_life_col    = find_column([\"healthy life expectancy\"], cols)\n",
    "freedom_col         = find_column([\"freedom\"], cols)\n",
    "generosity_col      = find_column([\"generosity\"], cols)\n",
    "corruption_col      = find_column([\"corruption\"], cols)\n",
    "positive_affect_col = find_column([\"positive affect\"], cols)\n",
    "negative_affect_col = find_column([\"negative affect\"], cols)\n",
    "\n",
    "df[year_col] = df[year_col].astype(str)\n",
    "\n",
    "df = df.dropna()"
   ]
  }
 ],
 "metadata": {
  "kernelspec": {
   "display_name": "Python 3",
   "language": "python",
   "name": "python3"
  },
  "language_info": {
   "codemirror_mode": {
    "name": "ipython",
    "version": 3
   },
   "file_extension": ".py",
   "mimetype": "text/x-python",
   "name": "python",
   "nbconvert_exporter": "python",
   "pygments_lexer": "ipython3",
   "version": "3.12.9"
  }
 },
 "nbformat": 4,
 "nbformat_minor": 2
}
