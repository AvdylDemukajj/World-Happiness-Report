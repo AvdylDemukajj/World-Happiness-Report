{
 "cells": [
  {
   "cell_type": "code",
   "execution_count": null,
   "metadata": {},
   "outputs": [],
   "source": [
    "import pandas as pd\n",
    "import numpy as np\n",
    "import matplotlib.pyplot as plt\n",
    "import seaborn as sns\n",
    "from mpl_toolkits.mplot3d import Axes3D\n",
    "from pandas.plotting import parallel_coordinates\n",
    "from sklearn.preprocessing import MinMaxScaler"
   ]
  },
  {
   "cell_type": "code",
   "execution_count": null,
   "metadata": {},
   "outputs": [],
   "source": [
    "# Helper Function: Improved find_column\n",
    "def find_column(keywords, columns):\n",
    "    matches = []\n",
    "    for col in columns:\n",
    "        for kw in keywords:\n",
    "            if kw.lower() in col.lower():\n",
    "                matches.append(col)\n",
    "                break\n",
    "    if not matches:\n",
    "        raise ValueError(\"No matching column found for keywords: \" + str(keywords))\n",
    "    if len(matches) > 1:\n",
    "        print(\"Multiple matches found for\", keywords, \":\", matches, \". Using the first one:\", matches[0])\n",
    "    return matches[0]"
   ]
  }
 ],
 "metadata": {
  "kernelspec": {
   "display_name": "Python 3",
   "language": "python",
   "name": "python3"
  },
  "language_info": {
   "codemirror_mode": {
    "name": "ipython",
    "version": 3
   },
   "file_extension": ".py",
   "mimetype": "text/x-python",
   "name": "python",
   "nbconvert_exporter": "python",
   "pygments_lexer": "ipython3",
   "version": "3.12.9"
  }
 },
 "nbformat": 4,
 "nbformat_minor": 2
}
